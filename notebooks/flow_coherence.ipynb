{
 "cells": [
  {
   "cell_type": "code",
   "execution_count": 1,
   "metadata": {},
   "outputs": [],
   "source": [
    "%matplotlib inline"
   ]
  },
  {
   "cell_type": "code",
   "execution_count": 1,
   "metadata": {},
   "outputs": [],
   "source": [
    "import itertools\n",
    "import json\n",
    "import random\n",
    "from typing import List, Tuple, Dict, Any, Iterator\n",
    "\n",
    "import matplotlib.pyplot as plt\n",
    "import numpy as np\n",
    "import seaborn as sns\n",
    "import tqdm\n",
    "\n",
    "import Levenshtein"
   ]
  },
  {
   "cell_type": "code",
   "execution_count": 68,
   "metadata": {},
   "outputs": [],
   "source": [
    "def scansion_distance(a: List[int], b: List[int]) -> float:\n",
    "    a, b = ''.join(map(str, a)), ''.join(map(str, b))\n",
    "    return Levenshtein.ratio(a, b)\n",
    "\n",
    "def normalize_stress(stress_pattern: List[str]) -> List[int]:\n",
    "    return [int(elt) if isinstance(elt, (int, float)) or elt.isdigit() else 0 for elt in stress_pattern]\n",
    "\n",
    "def get_stress_patterns(song: Dict) -> Iterator[List[int]]:\n",
    "    for verse in song['text']:\n",
    "        patterns = []\n",
    "        for line in verse:\n",
    "            pattern = normalize_stress([\n",
    "                syl for elt in line for syl in elt['beatstress']\n",
    "            ])\n",
    "            patterns.append(pattern)\n",
    "        yield patterns"
   ]
  },
  {
   "cell_type": "code",
   "execution_count": 69,
   "metadata": {},
   "outputs": [],
   "source": [
    "with open('../data/mcflow/mcflow-large.json') as f:\n",
    "    data = json.load(f)"
   ]
  },
  {
   "cell_type": "code",
   "execution_count": 76,
   "metadata": {},
   "outputs": [
    {
     "name": "stderr",
     "output_type": "stream",
     "text": [
      "100%|██████████| 123/123 [00:00<00:00, 1510.35it/s]\n",
      "100%|██████████| 123/123 [00:03<00:00, 39.86it/s]\n"
     ]
    }
   ],
   "source": [
    "scores = {'pairs': [], 'random pairs': []}\n",
    "all_lines = []\n",
    "\n",
    "for song in tqdm.tqdm(data):\n",
    "    lines = []\n",
    "    for patterns in get_stress_patterns(song):\n",
    "        # compute overall coherence in a stanza\n",
    "        assert len(patterns) > 1\n",
    "        sims = [D(a, b) for a, b in zip(patterns, patterns[1:])]\n",
    "        scores['pairs'].extend(sims)\n",
    "        all_lines.extend(patterns)\n",
    "\n",
    "# compute coherence based on random pairings\n",
    "for song in tqdm.tqdm(data):\n",
    "    for patterns in get_stress_patterns(song):\n",
    "        assert len(patterns) > 1\n",
    "        patterns = random.sample(all_lines, min(len(patterns) * 100, len(all_lines)))\n",
    "        sims = [D(a, b) for a, b in zip(patterns, patterns[1:])]\n",
    "        scores['random pairs'].extend(sims)"
   ]
  },
  {
   "cell_type": "code",
   "execution_count": 77,
   "metadata": {},
   "outputs": [
    {
     "name": "stderr",
     "output_type": "stream",
     "text": [
      "/Users/folgertkarsdorp/anaconda/lib/python3.6/site-packages/matplotlib/axes/_axes.py:6462: UserWarning: The 'normed' kwarg is deprecated, and has been replaced by the 'density' kwarg.\n",
      "  warnings.warn(\"The 'normed' kwarg is deprecated, and has been \"\n"
     ]
    },
    {
     "data": {
      "image/png": "[encoded data removed]",
      "text/plain": [
       "<Figure size 720x432 with 1 Axes>"
      ]
     },
     "metadata": {},
     "output_type": "display_data"
    }
   ],
   "source": [
    "plt.figure(figsize=(10, 6))\n",
    "sns.distplot(scores['pairs'], label='pairs')\n",
    "sns.distplot(scores['random pairs'], label='random pairs')\n",
    "plt.legend();"
   ]
  },
  {
   "cell_type": "code",
   "execution_count": 78,
   "metadata": {},
   "outputs": [
    {
     "name": "stdout",
     "output_type": "stream",
     "text": [
      "K=0.189, p=0.000\n",
      "Z=34.481, p=0.000\n"
     ]
    }
   ],
   "source": [
    "import scipy.stats as stats\n",
    "\n",
    "K, p = stats.ks_2samp(scores['pairs'], scores['random pairs'])\n",
    "print(f'K={K:.3f}, p={p:.3f}')\n",
    "Z, p = stats.ranksums(scores['pairs'], scores['random pairs'])\n",
    "print(f'Z={Z:.3f}, p={p:.3f}')"
   ]
  },
  {
   "cell_type": "code",
   "execution_count": 79,
   "metadata": {},
   "outputs": [],
   "source": [
    "import statistics\n",
    "\n",
    "def bootstrap_p(a, b, N=1000):\n",
    "    def H(u, v):\n",
    "        return 1 if a > b else 0.5 if a == b else 0\n",
    "    \n",
    "    n = min(len(a), len(b))\n",
    "    p = 0\n",
    "    for _ in tqdm.tqdm(range(N)):\n",
    "        p += H(statistics.mean(random.sample(a, n)),\n",
    "               statistics.mean(random.sample(b, n)))\n",
    "    p /= N\n",
    "    return (1 + 2 * N * min(p, 1 - p)) / (1 + N)"
   ]
  },
  {
   "cell_type": "code",
   "execution_count": 80,
   "metadata": {},
   "outputs": [
    {
     "name": "stderr",
     "output_type": "stream",
     "text": [
      "100%|██████████| 1000/1000 [00:17<00:00, 56.57it/s]\n"
     ]
    },
    {
     "data": {
      "text/plain": [
       "0.000999000999000999"
      ]
     },
     "execution_count": 80,
     "metadata": {},
     "output_type": "execute_result"
    }
   ],
   "source": [
    "bootstrap_p(scores['pairs'], scores['random pairs'])"
   ]
  },
  {
   "cell_type": "code",
   "execution_count": null,
   "metadata": {},
   "outputs": [],
   "source": []
  }
 ],
 "metadata": {
  "kernelspec": {
   "display_name": "Python 3",
   "language": "python",
   "name": "python3"
  },
  "language_info": {
   "codemirror_mode": {
    "name": "ipython",
    "version": 3
   },
   "file_extension": ".py",
   "mimetype": "text/x-python",
   "name": "python",
   "nbconvert_exporter": "python",
   "pygments_lexer": "ipython3",
   "version": "3.6.6"
  }
 },
 "nbformat": 4,
 "nbformat_minor": 2
}
